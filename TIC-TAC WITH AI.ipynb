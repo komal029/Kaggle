{
 "cells": [
  {
   "cell_type": "code",
   "execution_count": 3,
   "id": "58002ec2",
   "metadata": {},
   "outputs": [],
   "source": [
    "import numpy as np"
   ]
  },
  {
   "cell_type": "code",
   "execution_count": 5,
   "id": "60eb7683",
   "metadata": {},
   "outputs": [],
   "source": [
    "# Define the Tic-Tac-Toe board size (3x3)\n",
    "BOARD_SIZE = 3"
   ]
  },
  {
   "cell_type": "code",
   "execution_count": 6,
   "id": "c8550eaa",
   "metadata": {},
   "outputs": [],
   "source": [
    "# Create an empty Tic-Tac-Toe board\n",
    "board = np.zeros((BOARD_SIZE, BOARD_SIZE), dtype=int)"
   ]
  },
  {
   "cell_type": "code",
   "execution_count": 7,
   "id": "e1daaaa7",
   "metadata": {},
   "outputs": [],
   "source": [
    "# Function to check if a player has won\n",
    "def check_win(player):\n",
    "    # Check rows, columns, and diagonals\n",
    "    for i in range(BOARD_SIZE):\n",
    "        if np.all(board[i] == player) or np.all(board[:, i] == player):\n",
    "            return True\n",
    "    if np.all(np.diag(board) == player) or np.all(np.diag(np.fliplr(board)) == player):\n",
    "        return True\n",
    "    return False"
   ]
  },
  {
   "cell_type": "code",
   "execution_count": 8,
   "id": "c3c8dc4f",
   "metadata": {},
   "outputs": [],
   "source": [
    "# Function to check if the game is a draw\n",
    "def check_draw():\n",
    "    return np.all(board != 0)"
   ]
  },
  {
   "cell_type": "code",
   "execution_count": 9,
   "id": "07bb29bd",
   "metadata": {},
   "outputs": [],
   "source": [
    "# Function to make a move\n",
    "def make_move(player, row, col):\n",
    "    if board[row, col] == 0:\n",
    "        board[row, col] = player"
   ]
  },
  {
   "cell_type": "code",
   "execution_count": 10,
   "id": "856ed94d",
   "metadata": {},
   "outputs": [],
   "source": [
    "# Q-learning parameters\n",
    "LEARNING_RATE = 0.1\n",
    "DISCOUNT_FACTOR = 0.9\n",
    "EPSILON = 0.1\n",
    "NUM_EPISODES = 10000"
   ]
  },
  {
   "cell_type": "code",
   "execution_count": 11,
   "id": "b9802d0e",
   "metadata": {},
   "outputs": [],
   "source": [
    "# Q-table initialization\n",
    "q_table = np.zeros((3**9, BOARD_SIZE**2))"
   ]
  },
  {
   "cell_type": "code",
   "execution_count": 12,
   "id": "c7ebdeec",
   "metadata": {},
   "outputs": [],
   "source": [
    "# Function to convert the board state to an integer\n",
    "def state_to_int(state):\n",
    "    return sum(state.reshape(-1) * (3 ** np.arange(BOARD_SIZE**2)))"
   ]
  },
  {
   "cell_type": "code",
   "execution_count": 13,
   "id": "83efa3c3",
   "metadata": {},
   "outputs": [],
   "source": [
    "# Q-learning training\n",
    "for episode in range(NUM_EPISODES):\n",
    "    board = np.zeros((BOARD_SIZE, BOARD_SIZE), dtype=int)\n",
    "    state = state_to_int(board)\n",
    "    done = False\n",
    "\n",
    "    while not done:\n",
    "        if np.random.rand() < EPSILON:\n",
    "            action = np.random.choice(BOARD_SIZE**2)\n",
    "        else:\n",
    "            action = np.argmax(q_table[state])\n",
    "\n",
    "        row = action // BOARD_SIZE\n",
    "        col = action % BOARD_SIZE\n",
    "        make_move(1, row, col)\n",
    "        new_state = state_to_int(board)\n",
    "\n",
    "        if check_win(1):\n",
    "            reward = 1\n",
    "            done = True\n",
    "        elif check_draw():\n",
    "            reward = 0\n",
    "            done = True\n",
    "        else:\n",
    "            reward = 0\n",
    "\n",
    "        q_table[state, action] += LEARNING_RATE * (\n",
    "            reward + DISCOUNT_FACTOR * np.max(q_table[new_state]) - q_table[state, action]\n",
    "        )\n",
    "        state = new_state"
   ]
  },
  {
   "cell_type": "code",
   "execution_count": 14,
   "id": "094450b8",
   "metadata": {},
   "outputs": [],
   "source": [
    "# Function to let the AI play against a human\n",
    "def play_ai():\n",
    "    board = np.zeros((BOARD_SIZE, BOARD_SIZE), dtype=int)\n",
    "    done = False\n",
    "\n",
    "    while not done:\n",
    "        print(board)\n",
    "        print(\"Your move (row and column, e.g., 0 1):\")\n",
    "        row, col = map(int, input().split())\n",
    "        make_move(-1, row, col)\n",
    "\n",
    "        if check_win(-1):\n",
    "            print(\"You win!\")\n",
    "            done = True\n",
    "        elif check_draw():\n",
    "            print(\"It's a draw!\")\n",
    "            done = True\n",
    "        else:\n",
    "            ai_action = np.argmax(q_table[state_to_int(board)])\n",
    "            row = ai_action // BOARD_SIZE\n",
    "            col = ai_action % BOARD_SIZE\n",
    "            make_move(1, row, col)\n",
    "\n",
    "            if check_win(1):\n",
    "                print(\"AI wins!\")\n",
    "                done = True"
   ]
  },
  {
   "cell_type": "code",
   "execution_count": 15,
   "id": "4fb998d7",
   "metadata": {},
   "outputs": [
    {
     "name": "stdout",
     "output_type": "stream",
     "text": [
      "[[0 0 0]\n",
      " [0 0 0]\n",
      " [0 0 0]]\n",
      "Your move (row and column, e.g., 0 1):\n",
      "0 1\n",
      "AI wins!\n"
     ]
    }
   ],
   "source": [
    "play_ai()"
   ]
  },
  {
   "cell_type": "code",
   "execution_count": 17,
   "id": "59cb77e1",
   "metadata": {},
   "outputs": [
    {
     "name": "stdout",
     "output_type": "stream",
     "text": [
      "[[0 0 0]\n",
      " [0 0 0]\n",
      " [0 0 0]]\n",
      "Your move (row and column, e.g., 0 1):\n",
      "1 2\n",
      "AI wins!\n"
     ]
    }
   ],
   "source": [
    "play_ai()"
   ]
  },
  {
   "cell_type": "code",
   "execution_count": null,
   "id": "591cbf9e",
   "metadata": {},
   "outputs": [],
   "source": []
  }
 ],
 "metadata": {
  "kernelspec": {
   "display_name": "Python 3 (ipykernel)",
   "language": "python",
   "name": "python3"
  },
  "language_info": {
   "codemirror_mode": {
    "name": "ipython",
    "version": 3
   },
   "file_extension": ".py",
   "mimetype": "text/x-python",
   "name": "python",
   "nbconvert_exporter": "python",
   "pygments_lexer": "ipython3",
   "version": "3.9.7"
  }
 },
 "nbformat": 4,
 "nbformat_minor": 5
}
